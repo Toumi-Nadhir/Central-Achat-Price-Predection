{
 "cells": [
  {
   "cell_type": "markdown",
   "id": "896e940a",
   "metadata": {},
   "source": [
    "#### <font color='blue'> <h1 align=\"center\"> Integrated Project : Data Mining Phase [Price Prediction Model] <br> 4GL_2022/2023 <br> <font color='red'> Nadhir Toumi</font> </h1> </font>"
   ]
  },
  {
   "cell_type": "markdown",
   "id": "733d939f",
   "metadata": {},
   "source": [
    "# Import libraries and data"
   ]
  },
  {
   "cell_type": "code",
   "execution_count": 1,
   "id": "76abbc2c",
   "metadata": {},
   "outputs": [],
   "source": [
    "#Import libraries\n",
    "import pandas as pd\n",
    "import numpy as np\n",
    "import matplotlib.pyplot as plt\n",
    "import seaborn as sns\n",
    "from datetime import datetime\n",
    "from sklearn.preprocessing import MinMaxScaler\n",
    "from sklearn.model_selection import KFold, StratifiedKFold, train_test_split\n",
    "from sklearn.preprocessing import StandardScaler\n",
    "from sklearn.ensemble import RandomForestRegressor\n",
    "from sklearn.model_selection import RandomizedSearchCV\n",
    "from sklearn.metrics import mean_squared_error\n",
    "import math\n",
    "from sklearn.metrics import r2_score\n",
    "from xgboost import XGBRegressor"
   ]
  },
  {
   "cell_type": "code",
   "execution_count": 2,
   "id": "d28a2d39",
   "metadata": {},
   "outputs": [],
   "source": [
    "#Load dataset\n",
    "data = pd.read_csv('./Train.csv')"
   ]
  },
  {
   "cell_type": "markdown",
   "id": "835f7b54",
   "metadata": {},
   "source": [
    "# Data exploration\n",
    "## Data dictionary:\n",
    "### Our dataset has 2451 in function of 8 features which are:\n",
    "    Product= Name of the product\n",
    "    Product_Brand= Brand name\n",
    "    Item_Category= Category of the product\n",
    "    Subcategory_1= SubCategory of the product First Level\n",
    "    Subcategory_2= SubCategory of the product Second Level\n",
    "    Item_Rating= Rating of the product\n",
    "    Date= Date of the transaction\n",
    "    Selling_Price= Price of the product\n",
    "\n",
    ">Note that the difference betwwen the item category and the two subcategories is only in terms of details. The subcategory 1 details more the item category and the 2nd level subcategory does the same with first level one."
   ]
  },
  {
   "cell_type": "code",
   "execution_count": 3,
   "id": "f014d3f2",
   "metadata": {},
   "outputs": [
    {
     "data": {
      "text/plain": [
       "(2451, 8)"
      ]
     },
     "execution_count": 3,
     "metadata": {},
     "output_type": "execute_result"
    }
   ],
   "source": [
    "#dataset size\n",
    "data.shape"
   ]
  },
  {
   "cell_type": "code",
   "execution_count": 4,
   "id": "0a888db2",
   "metadata": {
    "scrolled": true
   },
   "outputs": [
    {
     "name": "stdout",
     "output_type": "stream",
     "text": [
      "<class 'pandas.core.frame.DataFrame'>\n",
      "RangeIndex: 2451 entries, 0 to 2450\n",
      "Data columns (total 8 columns):\n",
      " #   Column         Non-Null Count  Dtype  \n",
      "---  ------         --------------  -----  \n",
      " 0   Product        2451 non-null   object \n",
      " 1   Product_Brand  2451 non-null   object \n",
      " 2   Item_Category  2451 non-null   object \n",
      " 3   Subcategory_1  2451 non-null   object \n",
      " 4   Subcategory_2  2451 non-null   object \n",
      " 5   Item_Rating    2451 non-null   float64\n",
      " 6   Date           2451 non-null   object \n",
      " 7   Selling_Price  2451 non-null   int64  \n",
      "dtypes: float64(1), int64(1), object(6)\n",
      "memory usage: 153.3+ KB\n"
     ]
    }
   ],
   "source": [
    "#Exploring non null values\n",
    "data.info()"
   ]
  },
  {
   "cell_type": "markdown",
   "id": "e2cf5b37",
   "metadata": {},
   "source": [
    "> Our dataset doesn't contain NULL values"
   ]
  },
  {
   "cell_type": "code",
   "execution_count": 5,
   "id": "9db49c06",
   "metadata": {},
   "outputs": [
    {
     "data": {
      "text/html": [
       "<div>\n",
       "<style scoped>\n",
       "    .dataframe tbody tr th:only-of-type {\n",
       "        vertical-align: middle;\n",
       "    }\n",
       "\n",
       "    .dataframe tbody tr th {\n",
       "        vertical-align: top;\n",
       "    }\n",
       "\n",
       "    .dataframe thead th {\n",
       "        text-align: right;\n",
       "    }\n",
       "</style>\n",
       "<table border=\"1\" class=\"dataframe\">\n",
       "  <thead>\n",
       "    <tr style=\"text-align: right;\">\n",
       "      <th></th>\n",
       "      <th>Product</th>\n",
       "      <th>Product_Brand</th>\n",
       "      <th>Item_Category</th>\n",
       "      <th>Subcategory_1</th>\n",
       "      <th>Subcategory_2</th>\n",
       "      <th>Item_Rating</th>\n",
       "      <th>Date</th>\n",
       "      <th>Selling_Price</th>\n",
       "    </tr>\n",
       "  </thead>\n",
       "  <tbody>\n",
       "    <tr>\n",
       "      <th>0</th>\n",
       "      <td>P-2610</td>\n",
       "      <td>B-659</td>\n",
       "      <td>bags wallets belts</td>\n",
       "      <td>bags</td>\n",
       "      <td>hand bags</td>\n",
       "      <td>4.3</td>\n",
       "      <td>02-03-17</td>\n",
       "      <td>291</td>\n",
       "    </tr>\n",
       "    <tr>\n",
       "      <th>1</th>\n",
       "      <td>P-2453</td>\n",
       "      <td>B-3078</td>\n",
       "      <td>clothing</td>\n",
       "      <td>women s clothing</td>\n",
       "      <td>western wear</td>\n",
       "      <td>3.1</td>\n",
       "      <td>07-01-15</td>\n",
       "      <td>897</td>\n",
       "    </tr>\n",
       "    <tr>\n",
       "      <th>2</th>\n",
       "      <td>P-6802</td>\n",
       "      <td>B-1810</td>\n",
       "      <td>home decor festive needs</td>\n",
       "      <td>showpieces</td>\n",
       "      <td>ethnic</td>\n",
       "      <td>3.5</td>\n",
       "      <td>01-12-19</td>\n",
       "      <td>792</td>\n",
       "    </tr>\n",
       "    <tr>\n",
       "      <th>3</th>\n",
       "      <td>P-4452</td>\n",
       "      <td>B-3078</td>\n",
       "      <td>beauty and personal care</td>\n",
       "      <td>eye care</td>\n",
       "      <td>h2o plus eye care</td>\n",
       "      <td>4.0</td>\n",
       "      <td>12-12-14</td>\n",
       "      <td>837</td>\n",
       "    </tr>\n",
       "    <tr>\n",
       "      <th>4</th>\n",
       "      <td>P-8454</td>\n",
       "      <td>B-3078</td>\n",
       "      <td>clothing</td>\n",
       "      <td>men s clothing</td>\n",
       "      <td>t shirts</td>\n",
       "      <td>4.3</td>\n",
       "      <td>12-12-13</td>\n",
       "      <td>470</td>\n",
       "    </tr>\n",
       "  </tbody>\n",
       "</table>\n",
       "</div>"
      ],
      "text/plain": [
       "  Product Product_Brand             Item_Category     Subcategory_1  \\\n",
       "0  P-2610         B-659        bags wallets belts              bags   \n",
       "1  P-2453        B-3078                  clothing  women s clothing   \n",
       "2  P-6802        B-1810  home decor festive needs        showpieces   \n",
       "3  P-4452        B-3078  beauty and personal care          eye care   \n",
       "4  P-8454        B-3078                  clothing    men s clothing   \n",
       "\n",
       "       Subcategory_2  Item_Rating      Date  Selling_Price  \n",
       "0          hand bags          4.3  02-03-17            291  \n",
       "1       western wear          3.1  07-01-15            897  \n",
       "2             ethnic          3.5  01-12-19            792  \n",
       "3  h2o plus eye care          4.0  12-12-14            837  \n",
       "4           t shirts          4.3  12-12-13            470  "
      ]
     },
     "execution_count": 5,
     "metadata": {},
     "output_type": "execute_result"
    }
   ],
   "source": [
    "# Showing first five lines\n",
    "data.head()"
   ]
  },
  {
   "cell_type": "code",
   "execution_count": 6,
   "id": "ff28c8bf",
   "metadata": {},
   "outputs": [
    {
     "data": {
      "text/plain": [
       "(2451, 8)"
      ]
     },
     "execution_count": 6,
     "metadata": {},
     "output_type": "execute_result"
    }
   ],
   "source": [
    "# Eliminating Duplicates \n",
    "data=data.drop_duplicates()\n",
    "data.shape"
   ]
  },
  {
   "cell_type": "code",
   "execution_count": 7,
   "id": "57b5888c",
   "metadata": {},
   "outputs": [
    {
     "name": "stderr",
     "output_type": "stream",
     "text": [
      "C:\\Users\\Hedi\\AppData\\Local\\Temp\\ipykernel_8328\\3300824520.py:3: FutureWarning: The default value of numeric_only in DataFrame.corr is deprecated. In a future version, it will default to False. Select only valid columns or specify the value of numeric_only to silence this warning.\n",
      "  sns.heatmap(data.corr(method=\"pearson\"),annot=True,  linewidths=.5, ax=ax)\n"
     ]
    },
    {
     "data": {
      "text/plain": [
       "<Axes: >"
      ]
     },
     "execution_count": 7,
     "metadata": {},
     "output_type": "execute_result"
    },
    {
     "data": {
      "image/png": "[encoded data removed]",
      "text/plain": [
       "<Figure size 1000x1000 with 2 Axes>"
      ]
     },
     "metadata": {},
     "output_type": "display_data"
    }
   ],
   "source": [
    "# Features correlation\n",
    "fig, ax = plt.subplots(figsize=(10,10))  \n",
    "sns.heatmap(data.corr(method=\"pearson\"),annot=True,  linewidths=.5, ax=ax)"
   ]
  },
  {
   "cell_type": "code",
   "execution_count": 8,
   "id": "a6a3615a",
   "metadata": {},
   "outputs": [
    {
     "data": {
      "text/html": [
       "<div>\n",
       "<style scoped>\n",
       "    .dataframe tbody tr th:only-of-type {\n",
       "        vertical-align: middle;\n",
       "    }\n",
       "\n",
       "    .dataframe tbody tr th {\n",
       "        vertical-align: top;\n",
       "    }\n",
       "\n",
       "    .dataframe thead th {\n",
       "        text-align: right;\n",
       "    }\n",
       "</style>\n",
       "<table border=\"1\" class=\"dataframe\">\n",
       "  <thead>\n",
       "    <tr style=\"text-align: right;\">\n",
       "      <th></th>\n",
       "      <th>Item_Rating</th>\n",
       "      <th>Selling_Price</th>\n",
       "    </tr>\n",
       "  </thead>\n",
       "  <tbody>\n",
       "    <tr>\n",
       "      <th>count</th>\n",
       "      <td>2451.000000</td>\n",
       "      <td>2451.000000</td>\n",
       "    </tr>\n",
       "    <tr>\n",
       "      <th>mean</th>\n",
       "      <td>3.078335</td>\n",
       "      <td>2447.947776</td>\n",
       "    </tr>\n",
       "    <tr>\n",
       "      <th>std</th>\n",
       "      <td>1.187362</td>\n",
       "      <td>6734.982434</td>\n",
       "    </tr>\n",
       "    <tr>\n",
       "      <th>min</th>\n",
       "      <td>1.000000</td>\n",
       "      <td>33.000000</td>\n",
       "    </tr>\n",
       "    <tr>\n",
       "      <th>25%</th>\n",
       "      <td>2.000000</td>\n",
       "      <td>371.000000</td>\n",
       "    </tr>\n",
       "    <tr>\n",
       "      <th>50%</th>\n",
       "      <td>3.100000</td>\n",
       "      <td>596.000000</td>\n",
       "    </tr>\n",
       "    <tr>\n",
       "      <th>75%</th>\n",
       "      <td>4.100000</td>\n",
       "      <td>1194.500000</td>\n",
       "    </tr>\n",
       "    <tr>\n",
       "      <th>max</th>\n",
       "      <td>5.000000</td>\n",
       "      <td>70784.000000</td>\n",
       "    </tr>\n",
       "  </tbody>\n",
       "</table>\n",
       "</div>"
      ],
      "text/plain": [
       "       Item_Rating  Selling_Price\n",
       "count  2451.000000    2451.000000\n",
       "mean      3.078335    2447.947776\n",
       "std       1.187362    6734.982434\n",
       "min       1.000000      33.000000\n",
       "25%       2.000000     371.000000\n",
       "50%       3.100000     596.000000\n",
       "75%       4.100000    1194.500000\n",
       "max       5.000000   70784.000000"
      ]
     },
     "execution_count": 8,
     "metadata": {},
     "output_type": "execute_result"
    }
   ],
   "source": [
    "# Show data statistics\n",
    "data.describe()"
   ]
  },
  {
   "cell_type": "markdown",
   "id": "49622f81",
   "metadata": {},
   "source": [
    "Other features aren't considered in the visualizations and study because they are categorical features not numerical ones \n",
    "\n",
    ">=> Encoding will be necessary"
   ]
  },
  {
   "cell_type": "code",
   "execution_count": 9,
   "id": "3b4aa086",
   "metadata": {},
   "outputs": [
    {
     "name": "stdout",
     "output_type": "stream",
     "text": [
      "Total distinct categories in : 75\n",
      "Possible categories:\n",
      " clothing                                          717\n",
      "jewellery                                         428\n",
      "automotive                                        188\n",
      "footwear                                          161\n",
      "computers                                         104\n",
      "                                                 ... \n",
      "shopoj white paper sky lantern 80 cm x 34 cm p      1\n",
      "killys men s solid no show socks                    1\n",
      "sj barstel 56m 1000m binoculars 30 mm black         1\n",
      "prime printed 8 seater table cover multicolor       1\n",
      "v g professional hd 37 hair dryer red               1\n",
      "Name: Item_Category, Length: 75, dtype: int64\n"
     ]
    }
   ],
   "source": [
    "# Different possible values for categories\n",
    "print(\"Total distinct categories in\", \":\",len(data['Item_Category'].unique()))\n",
    "print(\"Possible categories:\\n\",data['Item_Category'].value_counts())"
   ]
  },
  {
   "cell_type": "code",
   "execution_count": 10,
   "id": "2fb74257",
   "metadata": {},
   "outputs": [
    {
     "name": "stdout",
     "output_type": "stream",
     "text": [
      "Total distinct SubCategories 1 in : 130\n",
      "Possible SubCategories1:\n",
      " women s clothing                 476\n",
      "men s clothing                   174\n",
      "accessories spare parts          173\n",
      "necklaces chains                 160\n",
      "rings                            139\n",
      "                                ... \n",
      "bath and spa                       1\n",
      "mp3 players ipods accessories      1\n",
      "mangalsutras tanmaniyas            1\n",
      "flowers plants vases               1\n",
      "redex cat eye sunglasses           1\n",
      "Name: Subcategory_1, Length: 130, dtype: int64\n"
     ]
    }
   ],
   "source": [
    "# Different possible values for Subcategories 1\n",
    "print(\"Total distinct SubCategories 1 in\", \":\",len(data['Subcategory_1'].unique()))\n",
    "print(\"Possible SubCategories1:\\n\",data['Subcategory_1'].value_counts())"
   ]
  },
  {
   "cell_type": "code",
   "execution_count": 11,
   "id": "76fcd1d9",
   "metadata": {},
   "outputs": [
    {
     "name": "stdout",
     "output_type": "stream",
     "text": [
      "Total distinct SubCategories 2 in : 336\n",
      "Possible SubCategories2:\n",
      " western wear                           267\n",
      "unknown                                228\n",
      "necklaces                              158\n",
      "car interior exterior                  126\n",
      "lingerie sleep swimwear                108\n",
      "                                      ... \n",
      "home audio                               1\n",
      "brass gift center religion devotion      1\n",
      "pens notebooks                           1\n",
      "posters                                  1\n",
      "fengshui                                 1\n",
      "Name: Subcategory_2, Length: 336, dtype: int64\n"
     ]
    }
   ],
   "source": [
    "# Different possible values for Subcategories 2\n",
    "print(\"Total distinct SubCategories 2 in\", \":\",len(data['Subcategory_2'].unique()))\n",
    "print(\"Possible SubCategories2:\\n\",data['Subcategory_2'].value_counts())"
   ]
  },
  {
   "cell_type": "code",
   "execution_count": 12,
   "id": "c4a67b75",
   "metadata": {},
   "outputs": [
    {
     "data": {
      "text/plain": [
       "(0, 8)"
      ]
     },
     "execution_count": 12,
     "metadata": {},
     "output_type": "execute_result"
    }
   ],
   "source": [
    "# Lines with the \"unknown\" value \n",
    "data.loc[data[\"Item_Category\"]==\"unknown\"].shape"
   ]
  },
  {
   "cell_type": "code",
   "execution_count": 13,
   "id": "19612ee8",
   "metadata": {},
   "outputs": [
    {
     "data": {
      "text/plain": [
       "(46, 8)"
      ]
     },
     "execution_count": 13,
     "metadata": {},
     "output_type": "execute_result"
    }
   ],
   "source": [
    "# Lines with the \"unknown\" value \n",
    "data.loc[data[\"Subcategory_1\"]==\"unknown\"].shape"
   ]
  },
  {
   "cell_type": "code",
   "execution_count": 14,
   "id": "6875817d",
   "metadata": {},
   "outputs": [
    {
     "data": {
      "text/plain": [
       "(228, 8)"
      ]
     },
     "execution_count": 14,
     "metadata": {},
     "output_type": "execute_result"
    }
   ],
   "source": [
    "# Lines with the \"unknown\" value \n",
    "data.loc[data[\"Subcategory_2\"]==\"unknown\"].shape"
   ]
  },
  {
   "cell_type": "markdown",
   "id": "8a43209f",
   "metadata": {},
   "source": [
    "## General observations:\n",
    "-The features 'Product' and 'Product_Brand' though object type , can easily be converted into numeric by removing the char and separator to avoid encoding the data\n",
    "\n",
    "-Item Category and Sucategory 1 & 2 features seem to have a lot of unique categorical values.\n",
    "\n",
    "-Many unique values in Categories and both SubCategories\n",
    "> Can't apply OneHotEncoder => Frequency Encoding is the solution\n",
    "\n",
    "-Many 'Unkown' values in Categories and both SubCategories: No hierarchial relationship bw Item_Category-Subcategory1-Subcategory2 which affects the selling price.\n",
    ">  Simply replace unkown by the category one level above"
   ]
  },
  {
   "cell_type": "code",
   "execution_count": 15,
   "id": "8e236670",
   "metadata": {},
   "outputs": [
    {
     "data": {
      "image/png": "[encoded data removed]",
      "text/plain": [
       "<Figure size 1200x500 with 1 Axes>"
      ]
     },
     "metadata": {},
     "output_type": "display_data"
    }
   ],
   "source": [
    "# Study of the distribution of selling_price values\n",
    "plt.figure(figsize=(12,5))\n",
    "plt.title(\"Distribution of Selling_Price\")\n",
    "ax = sns.histplot(data[\"Selling_Price\"],kde=True)"
   ]
  },
  {
   "cell_type": "markdown",
   "id": "c920f0a9",
   "metadata": {},
   "source": [
    "> The Distribution of our target variable is highly left skewed => Transformation needed"
   ]
  },
  {
   "cell_type": "markdown",
   "id": "a85c95ed",
   "metadata": {},
   "source": [
    "# Data Preparation"
   ]
  },
  {
   "cell_type": "code",
   "execution_count": 16,
   "id": "ba639c2e",
   "metadata": {},
   "outputs": [],
   "source": [
    "# Log Transformation\n",
    "data['Selling_Price'] = np.log(data['Selling_Price'])"
   ]
  },
  {
   "cell_type": "code",
   "execution_count": 17,
   "id": "9a309ead",
   "metadata": {},
   "outputs": [
    {
     "data": {
      "image/png": "[encoded data removed]",
      "text/plain": [
       "<Figure size 1200x500 with 1 Axes>"
      ]
     },
     "metadata": {},
     "output_type": "display_data"
    }
   ],
   "source": [
    "plt.figure(figsize=(12,5))\n",
    "plt.title(\"Distribution of Selling_Price\")\n",
    "ax = sns.histplot(data[\"Selling_Price\"],kde=True)"
   ]
  },
  {
   "cell_type": "markdown",
   "id": "4fd74135",
   "metadata": {},
   "source": [
    "> Better distributed values"
   ]
  },
  {
   "cell_type": "code",
   "execution_count": 18,
   "id": "71d84918",
   "metadata": {},
   "outputs": [],
   "source": [
    "# Extracting numerical value from Product column\n",
    "data['Product']=data['Product'].str.split('-', n=1, expand=True)[1]\n",
    "data['Product'] = data['Product'].astype(int)"
   ]
  },
  {
   "cell_type": "code",
   "execution_count": 19,
   "id": "2c91c3cf",
   "metadata": {},
   "outputs": [],
   "source": [
    "# Extracting numerical value from Product_Brand column\n",
    "data['Product_Brand']=data['Product_Brand'].str.split('-', n=1, expand=True)[1]\n",
    "data['Product_Brand'] = data['Product_Brand'].astype(int)"
   ]
  },
  {
   "cell_type": "code",
   "execution_count": 20,
   "id": "ca36086e",
   "metadata": {},
   "outputs": [],
   "source": [
    "# Substuting unknown with values from higher level\n",
    "data['Subcategory_1'] = np.where((data['Subcategory_1']=='unknown'),data['Item_Category'],data['Subcategory_1'])\n",
    "data['Subcategory_2'] = np.where((data['Subcategory_2']=='unknown'),data['Subcategory_1'],data['Subcategory_2'])"
   ]
  },
  {
   "cell_type": "code",
   "execution_count": 21,
   "id": "55818833",
   "metadata": {},
   "outputs": [],
   "source": [
    "# Frequency Encoding Categories\n",
    "enc_nom = (data.groupby('Item_Category').size()) / len(data)\n",
    "enc_nom\n",
    "data['Item_Category_encode'] = data['Item_Category'].apply(lambda x : enc_nom[x])"
   ]
  },
  {
   "cell_type": "code",
   "execution_count": 22,
   "id": "62712e61",
   "metadata": {},
   "outputs": [],
   "source": [
    "# Frequencey encoding Subcategories 1\n",
    "enc_nom = (data.groupby('Subcategory_1').size()) / len(data)\n",
    "enc_nom\n",
    "data['Subcategory_1_encode'] = data['Subcategory_1'].apply(lambda x : enc_nom[x])"
   ]
  },
  {
   "cell_type": "code",
   "execution_count": 23,
   "id": "2b3990a2",
   "metadata": {},
   "outputs": [],
   "source": [
    "# Frequencey encoding Subcategories 2\n",
    "enc_nom = (data.groupby('Subcategory_2').size()) / len(data)\n",
    "enc_nom\n",
    "data['Subcategory_2_encode'] = data['Subcategory_2'].apply(lambda x : enc_nom[x])"
   ]
  },
  {
   "cell_type": "code",
   "execution_count": 24,
   "id": "461e13dd",
   "metadata": {
    "scrolled": true
   },
   "outputs": [
    {
     "data": {
      "text/html": [
       "<div>\n",
       "<style scoped>\n",
       "    .dataframe tbody tr th:only-of-type {\n",
       "        vertical-align: middle;\n",
       "    }\n",
       "\n",
       "    .dataframe tbody tr th {\n",
       "        vertical-align: top;\n",
       "    }\n",
       "\n",
       "    .dataframe thead th {\n",
       "        text-align: right;\n",
       "    }\n",
       "</style>\n",
       "<table border=\"1\" class=\"dataframe\">\n",
       "  <thead>\n",
       "    <tr style=\"text-align: right;\">\n",
       "      <th></th>\n",
       "      <th>Product</th>\n",
       "      <th>Product_Brand</th>\n",
       "      <th>Item_Category</th>\n",
       "      <th>Subcategory_1</th>\n",
       "      <th>Subcategory_2</th>\n",
       "      <th>Item_Rating</th>\n",
       "      <th>Date</th>\n",
       "      <th>Selling_Price</th>\n",
       "      <th>Item_Category_encode</th>\n",
       "      <th>Subcategory_1_encode</th>\n",
       "      <th>Subcategory_2_encode</th>\n",
       "    </tr>\n",
       "  </thead>\n",
       "  <tbody>\n",
       "    <tr>\n",
       "      <th>0</th>\n",
       "      <td>2610</td>\n",
       "      <td>659</td>\n",
       "      <td>bags wallets belts</td>\n",
       "      <td>bags</td>\n",
       "      <td>hand bags</td>\n",
       "      <td>4.3</td>\n",
       "      <td>02-03-17</td>\n",
       "      <td>5.673323</td>\n",
       "      <td>0.015504</td>\n",
       "      <td>0.011016</td>\n",
       "      <td>0.005304</td>\n",
       "    </tr>\n",
       "    <tr>\n",
       "      <th>1</th>\n",
       "      <td>2453</td>\n",
       "      <td>3078</td>\n",
       "      <td>clothing</td>\n",
       "      <td>women s clothing</td>\n",
       "      <td>western wear</td>\n",
       "      <td>3.1</td>\n",
       "      <td>07-01-15</td>\n",
       "      <td>6.799056</td>\n",
       "      <td>0.292534</td>\n",
       "      <td>0.194206</td>\n",
       "      <td>0.108935</td>\n",
       "    </tr>\n",
       "    <tr>\n",
       "      <th>2</th>\n",
       "      <td>6802</td>\n",
       "      <td>1810</td>\n",
       "      <td>home decor festive needs</td>\n",
       "      <td>showpieces</td>\n",
       "      <td>ethnic</td>\n",
       "      <td>3.5</td>\n",
       "      <td>01-12-19</td>\n",
       "      <td>6.674561</td>\n",
       "      <td>0.039984</td>\n",
       "      <td>0.014280</td>\n",
       "      <td>0.005712</td>\n",
       "    </tr>\n",
       "    <tr>\n",
       "      <th>3</th>\n",
       "      <td>4452</td>\n",
       "      <td>3078</td>\n",
       "      <td>beauty and personal care</td>\n",
       "      <td>eye care</td>\n",
       "      <td>h2o plus eye care</td>\n",
       "      <td>4.0</td>\n",
       "      <td>12-12-14</td>\n",
       "      <td>6.729824</td>\n",
       "      <td>0.036720</td>\n",
       "      <td>0.000816</td>\n",
       "      <td>0.000408</td>\n",
       "    </tr>\n",
       "    <tr>\n",
       "      <th>4</th>\n",
       "      <td>8454</td>\n",
       "      <td>3078</td>\n",
       "      <td>clothing</td>\n",
       "      <td>men s clothing</td>\n",
       "      <td>t shirts</td>\n",
       "      <td>4.3</td>\n",
       "      <td>12-12-13</td>\n",
       "      <td>6.152733</td>\n",
       "      <td>0.292534</td>\n",
       "      <td>0.070991</td>\n",
       "      <td>0.024888</td>\n",
       "    </tr>\n",
       "    <tr>\n",
       "      <th>...</th>\n",
       "      <td>...</td>\n",
       "      <td>...</td>\n",
       "      <td>...</td>\n",
       "      <td>...</td>\n",
       "      <td>...</td>\n",
       "      <td>...</td>\n",
       "      <td>...</td>\n",
       "      <td>...</td>\n",
       "      <td>...</td>\n",
       "      <td>...</td>\n",
       "      <td>...</td>\n",
       "    </tr>\n",
       "    <tr>\n",
       "      <th>2446</th>\n",
       "      <td>8870</td>\n",
       "      <td>2292</td>\n",
       "      <td>clothing</td>\n",
       "      <td>kids clothing</td>\n",
       "      <td>girls wear</td>\n",
       "      <td>2.3</td>\n",
       "      <td>11-03-17</td>\n",
       "      <td>6.608001</td>\n",
       "      <td>0.292534</td>\n",
       "      <td>0.027336</td>\n",
       "      <td>0.016320</td>\n",
       "    </tr>\n",
       "    <tr>\n",
       "      <th>2447</th>\n",
       "      <td>10672</td>\n",
       "      <td>3078</td>\n",
       "      <td>footwear</td>\n",
       "      <td>women s footwear</td>\n",
       "      <td>casual shoes</td>\n",
       "      <td>1.9</td>\n",
       "      <td>04-12-16</td>\n",
       "      <td>7.371489</td>\n",
       "      <td>0.065687</td>\n",
       "      <td>0.041208</td>\n",
       "      <td>0.028560</td>\n",
       "    </tr>\n",
       "    <tr>\n",
       "      <th>2448</th>\n",
       "      <td>2134</td>\n",
       "      <td>479</td>\n",
       "      <td>clothing</td>\n",
       "      <td>men s clothing</td>\n",
       "      <td>t shirts</td>\n",
       "      <td>1.9</td>\n",
       "      <td>19-04-19</td>\n",
       "      <td>6.902743</td>\n",
       "      <td>0.292534</td>\n",
       "      <td>0.070991</td>\n",
       "      <td>0.024888</td>\n",
       "    </tr>\n",
       "    <tr>\n",
       "      <th>2449</th>\n",
       "      <td>724</td>\n",
       "      <td>133</td>\n",
       "      <td>automotive</td>\n",
       "      <td>accessories spare parts</td>\n",
       "      <td>car interior exterior</td>\n",
       "      <td>2.7</td>\n",
       "      <td>01-12-14</td>\n",
       "      <td>7.376508</td>\n",
       "      <td>0.076703</td>\n",
       "      <td>0.070583</td>\n",
       "      <td>0.051408</td>\n",
       "    </tr>\n",
       "    <tr>\n",
       "      <th>2450</th>\n",
       "      <td>1154</td>\n",
       "      <td>174</td>\n",
       "      <td>bags wallets belts</td>\n",
       "      <td>bags</td>\n",
       "      <td>pouches and potlis</td>\n",
       "      <td>4.1</td>\n",
       "      <td>03-03-19</td>\n",
       "      <td>5.983936</td>\n",
       "      <td>0.015504</td>\n",
       "      <td>0.011016</td>\n",
       "      <td>0.000816</td>\n",
       "    </tr>\n",
       "  </tbody>\n",
       "</table>\n",
       "<p>2451 rows × 11 columns</p>\n",
       "</div>"
      ],
      "text/plain": [
       "      Product  Product_Brand             Item_Category  \\\n",
       "0        2610            659        bags wallets belts   \n",
       "1        2453           3078                  clothing   \n",
       "2        6802           1810  home decor festive needs   \n",
       "3        4452           3078  beauty and personal care   \n",
       "4        8454           3078                  clothing   \n",
       "...       ...            ...                       ...   \n",
       "2446     8870           2292                  clothing   \n",
       "2447    10672           3078                  footwear   \n",
       "2448     2134            479                  clothing   \n",
       "2449      724            133                automotive   \n",
       "2450     1154            174        bags wallets belts   \n",
       "\n",
       "                Subcategory_1          Subcategory_2  Item_Rating      Date  \\\n",
       "0                        bags              hand bags          4.3  02-03-17   \n",
       "1            women s clothing           western wear          3.1  07-01-15   \n",
       "2                  showpieces                 ethnic          3.5  01-12-19   \n",
       "3                    eye care      h2o plus eye care          4.0  12-12-14   \n",
       "4              men s clothing               t shirts          4.3  12-12-13   \n",
       "...                       ...                    ...          ...       ...   \n",
       "2446            kids clothing             girls wear          2.3  11-03-17   \n",
       "2447         women s footwear           casual shoes          1.9  04-12-16   \n",
       "2448           men s clothing               t shirts          1.9  19-04-19   \n",
       "2449  accessories spare parts  car interior exterior          2.7  01-12-14   \n",
       "2450                     bags     pouches and potlis          4.1  03-03-19   \n",
       "\n",
       "      Selling_Price  Item_Category_encode  Subcategory_1_encode  \\\n",
       "0          5.673323              0.015504              0.011016   \n",
       "1          6.799056              0.292534              0.194206   \n",
       "2          6.674561              0.039984              0.014280   \n",
       "3          6.729824              0.036720              0.000816   \n",
       "4          6.152733              0.292534              0.070991   \n",
       "...             ...                   ...                   ...   \n",
       "2446       6.608001              0.292534              0.027336   \n",
       "2447       7.371489              0.065687              0.041208   \n",
       "2448       6.902743              0.292534              0.070991   \n",
       "2449       7.376508              0.076703              0.070583   \n",
       "2450       5.983936              0.015504              0.011016   \n",
       "\n",
       "      Subcategory_2_encode  \n",
       "0                 0.005304  \n",
       "1                 0.108935  \n",
       "2                 0.005712  \n",
       "3                 0.000408  \n",
       "4                 0.024888  \n",
       "...                    ...  \n",
       "2446              0.016320  \n",
       "2447              0.028560  \n",
       "2448              0.024888  \n",
       "2449              0.051408  \n",
       "2450              0.000816  \n",
       "\n",
       "[2451 rows x 11 columns]"
      ]
     },
     "execution_count": 24,
     "metadata": {},
     "output_type": "execute_result"
    }
   ],
   "source": [
    "# Results visualization\n",
    "data"
   ]
  },
  {
   "cell_type": "markdown",
   "id": "a79246ab",
   "metadata": {},
   "source": [
    "## Feature Engineering"
   ]
  },
  {
   "cell_type": "code",
   "execution_count": 25,
   "id": "9c2e5a09",
   "metadata": {},
   "outputs": [],
   "source": [
    "# Extracting Month and Year from Date\n",
    "data['Date'] = pd.to_datetime(data['Date'])\n",
    "data['Month'] = [date.month for date in data.Date]\n",
    "data['Year'] = [date.year for date in data.Date]"
   ]
  },
  {
   "cell_type": "markdown",
   "id": "affcb54a",
   "metadata": {},
   "source": [
    "## Data Scaling"
   ]
  },
  {
   "cell_type": "code",
   "execution_count": 26,
   "id": "8c9714ff",
   "metadata": {},
   "outputs": [],
   "source": [
    "# Scaling Data using MinMax strategy\n",
    "data['Year'] = (data['Year'] - data['Year'].min()) / (data['Year'].max() - data['Year'].min())\n",
    "data['Product'] = (data['Product'] - data['Product'].min()) / (data['Product'].max() - data['Product'].min())\n",
    "data['Product_Brand'] = (data['Product_Brand'] - data['Product_Brand'].min()) / (data['Product_Brand'].max() - data['Product_Brand'].min())"
   ]
  },
  {
   "cell_type": "markdown",
   "id": "68bec6b9",
   "metadata": {},
   "source": [
    "## Finalizing the dataset"
   ]
  },
  {
   "cell_type": "code",
   "execution_count": 27,
   "id": "d7d54ddb",
   "metadata": {},
   "outputs": [],
   "source": [
    "# Dropping old Columns\n",
    "data.drop(['Item_Category','Subcategory_1','Subcategory_2','Date','Item_Rating'],axis=1,inplace = True)"
   ]
  },
  {
   "cell_type": "code",
   "execution_count": 28,
   "id": "18d96165",
   "metadata": {},
   "outputs": [
    {
     "data": {
      "text/html": [
       "<div>\n",
       "<style scoped>\n",
       "    .dataframe tbody tr th:only-of-type {\n",
       "        vertical-align: middle;\n",
       "    }\n",
       "\n",
       "    .dataframe tbody tr th {\n",
       "        vertical-align: top;\n",
       "    }\n",
       "\n",
       "    .dataframe thead th {\n",
       "        text-align: right;\n",
       "    }\n",
       "</style>\n",
       "<table border=\"1\" class=\"dataframe\">\n",
       "  <thead>\n",
       "    <tr style=\"text-align: right;\">\n",
       "      <th></th>\n",
       "      <th>Product</th>\n",
       "      <th>Product_Brand</th>\n",
       "      <th>Selling_Price</th>\n",
       "      <th>Item_Category_encode</th>\n",
       "      <th>Subcategory_1_encode</th>\n",
       "      <th>Subcategory_2_encode</th>\n",
       "      <th>Month</th>\n",
       "      <th>Year</th>\n",
       "    </tr>\n",
       "  </thead>\n",
       "  <tbody>\n",
       "    <tr>\n",
       "      <th>0</th>\n",
       "      <td>0.207404</td>\n",
       "      <td>0.196359</td>\n",
       "      <td>5.673323</td>\n",
       "      <td>0.015504</td>\n",
       "      <td>0.011016</td>\n",
       "      <td>0.005304</td>\n",
       "      <td>2</td>\n",
       "      <td>0.625</td>\n",
       "    </tr>\n",
       "    <tr>\n",
       "      <th>1</th>\n",
       "      <td>0.194904</td>\n",
       "      <td>0.918233</td>\n",
       "      <td>6.799056</td>\n",
       "      <td>0.292534</td>\n",
       "      <td>0.194206</td>\n",
       "      <td>0.108935</td>\n",
       "      <td>7</td>\n",
       "      <td>0.375</td>\n",
       "    </tr>\n",
       "    <tr>\n",
       "      <th>2</th>\n",
       "      <td>0.541162</td>\n",
       "      <td>0.539839</td>\n",
       "      <td>6.674561</td>\n",
       "      <td>0.039984</td>\n",
       "      <td>0.014280</td>\n",
       "      <td>0.005712</td>\n",
       "      <td>1</td>\n",
       "      <td>0.875</td>\n",
       "    </tr>\n",
       "    <tr>\n",
       "      <th>3</th>\n",
       "      <td>0.354061</td>\n",
       "      <td>0.918233</td>\n",
       "      <td>6.729824</td>\n",
       "      <td>0.036720</td>\n",
       "      <td>0.000816</td>\n",
       "      <td>0.000408</td>\n",
       "      <td>12</td>\n",
       "      <td>0.250</td>\n",
       "    </tr>\n",
       "    <tr>\n",
       "      <th>4</th>\n",
       "      <td>0.672691</td>\n",
       "      <td>0.918233</td>\n",
       "      <td>6.152733</td>\n",
       "      <td>0.292534</td>\n",
       "      <td>0.070991</td>\n",
       "      <td>0.024888</td>\n",
       "      <td>12</td>\n",
       "      <td>0.125</td>\n",
       "    </tr>\n",
       "    <tr>\n",
       "      <th>...</th>\n",
       "      <td>...</td>\n",
       "      <td>...</td>\n",
       "      <td>...</td>\n",
       "      <td>...</td>\n",
       "      <td>...</td>\n",
       "      <td>...</td>\n",
       "      <td>...</td>\n",
       "      <td>...</td>\n",
       "    </tr>\n",
       "    <tr>\n",
       "      <th>2446</th>\n",
       "      <td>0.705812</td>\n",
       "      <td>0.683677</td>\n",
       "      <td>6.608001</td>\n",
       "      <td>0.292534</td>\n",
       "      <td>0.027336</td>\n",
       "      <td>0.016320</td>\n",
       "      <td>11</td>\n",
       "      <td>0.625</td>\n",
       "    </tr>\n",
       "    <tr>\n",
       "      <th>2447</th>\n",
       "      <td>0.849283</td>\n",
       "      <td>0.918233</td>\n",
       "      <td>7.371489</td>\n",
       "      <td>0.065687</td>\n",
       "      <td>0.041208</td>\n",
       "      <td>0.028560</td>\n",
       "      <td>4</td>\n",
       "      <td>0.500</td>\n",
       "    </tr>\n",
       "    <tr>\n",
       "      <th>2448</th>\n",
       "      <td>0.169506</td>\n",
       "      <td>0.142644</td>\n",
       "      <td>6.902743</td>\n",
       "      <td>0.292534</td>\n",
       "      <td>0.070991</td>\n",
       "      <td>0.024888</td>\n",
       "      <td>4</td>\n",
       "      <td>0.875</td>\n",
       "    </tr>\n",
       "    <tr>\n",
       "      <th>2449</th>\n",
       "      <td>0.057245</td>\n",
       "      <td>0.039391</td>\n",
       "      <td>7.376508</td>\n",
       "      <td>0.076703</td>\n",
       "      <td>0.070583</td>\n",
       "      <td>0.051408</td>\n",
       "      <td>1</td>\n",
       "      <td>0.250</td>\n",
       "    </tr>\n",
       "    <tr>\n",
       "      <th>2450</th>\n",
       "      <td>0.091481</td>\n",
       "      <td>0.051626</td>\n",
       "      <td>5.983936</td>\n",
       "      <td>0.015504</td>\n",
       "      <td>0.011016</td>\n",
       "      <td>0.000816</td>\n",
       "      <td>3</td>\n",
       "      <td>0.875</td>\n",
       "    </tr>\n",
       "  </tbody>\n",
       "</table>\n",
       "<p>2451 rows × 8 columns</p>\n",
       "</div>"
      ],
      "text/plain": [
       "       Product  Product_Brand  Selling_Price  Item_Category_encode  \\\n",
       "0     0.207404       0.196359       5.673323              0.015504   \n",
       "1     0.194904       0.918233       6.799056              0.292534   \n",
       "2     0.541162       0.539839       6.674561              0.039984   \n",
       "3     0.354061       0.918233       6.729824              0.036720   \n",
       "4     0.672691       0.918233       6.152733              0.292534   \n",
       "...        ...            ...            ...                   ...   \n",
       "2446  0.705812       0.683677       6.608001              0.292534   \n",
       "2447  0.849283       0.918233       7.371489              0.065687   \n",
       "2448  0.169506       0.142644       6.902743              0.292534   \n",
       "2449  0.057245       0.039391       7.376508              0.076703   \n",
       "2450  0.091481       0.051626       5.983936              0.015504   \n",
       "\n",
       "      Subcategory_1_encode  Subcategory_2_encode  Month   Year  \n",
       "0                 0.011016              0.005304      2  0.625  \n",
       "1                 0.194206              0.108935      7  0.375  \n",
       "2                 0.014280              0.005712      1  0.875  \n",
       "3                 0.000816              0.000408     12  0.250  \n",
       "4                 0.070991              0.024888     12  0.125  \n",
       "...                    ...                   ...    ...    ...  \n",
       "2446              0.027336              0.016320     11  0.625  \n",
       "2447              0.041208              0.028560      4  0.500  \n",
       "2448              0.070991              0.024888      4  0.875  \n",
       "2449              0.070583              0.051408      1  0.250  \n",
       "2450              0.011016              0.000816      3  0.875  \n",
       "\n",
       "[2451 rows x 8 columns]"
      ]
     },
     "execution_count": 28,
     "metadata": {},
     "output_type": "execute_result"
    }
   ],
   "source": [
    "# Prepared dataset\n",
    "data"
   ]
  },
  {
   "cell_type": "code",
   "execution_count": 29,
   "id": "73ced7c5",
   "metadata": {},
   "outputs": [
    {
     "data": {
      "text/html": [
       "<div>\n",
       "<style scoped>\n",
       "    .dataframe tbody tr th:only-of-type {\n",
       "        vertical-align: middle;\n",
       "    }\n",
       "\n",
       "    .dataframe tbody tr th {\n",
       "        vertical-align: top;\n",
       "    }\n",
       "\n",
       "    .dataframe thead th {\n",
       "        text-align: right;\n",
       "    }\n",
       "</style>\n",
       "<table border=\"1\" class=\"dataframe\">\n",
       "  <thead>\n",
       "    <tr style=\"text-align: right;\">\n",
       "      <th></th>\n",
       "      <th>Product</th>\n",
       "      <th>Product_Brand</th>\n",
       "      <th>Selling_Price</th>\n",
       "      <th>Item_Category_encode</th>\n",
       "      <th>Subcategory_1_encode</th>\n",
       "      <th>Subcategory_2_encode</th>\n",
       "      <th>Month</th>\n",
       "      <th>Year</th>\n",
       "    </tr>\n",
       "  </thead>\n",
       "  <tbody>\n",
       "    <tr>\n",
       "      <th>count</th>\n",
       "      <td>2451.000000</td>\n",
       "      <td>2451.000000</td>\n",
       "      <td>2451.000000</td>\n",
       "      <td>2451.000000</td>\n",
       "      <td>2451.000000</td>\n",
       "      <td>2451.000000</td>\n",
       "      <td>2451.000000</td>\n",
       "      <td>2451.000000</td>\n",
       "    </tr>\n",
       "    <tr>\n",
       "      <th>mean</th>\n",
       "      <td>0.496940</td>\n",
       "      <td>0.612154</td>\n",
       "      <td>6.648503</td>\n",
       "      <td>0.136984</td>\n",
       "      <td>0.063609</td>\n",
       "      <td>0.029703</td>\n",
       "      <td>5.698490</td>\n",
       "      <td>0.507650</td>\n",
       "    </tr>\n",
       "    <tr>\n",
       "      <th>std</th>\n",
       "      <td>0.283303</td>\n",
       "      <td>0.318440</td>\n",
       "      <td>1.174317</td>\n",
       "      <td>0.112677</td>\n",
       "      <td>0.068241</td>\n",
       "      <td>0.034185</td>\n",
       "      <td>4.361342</td>\n",
       "      <td>0.293236</td>\n",
       "    </tr>\n",
       "    <tr>\n",
       "      <th>min</th>\n",
       "      <td>0.000000</td>\n",
       "      <td>0.000000</td>\n",
       "      <td>3.496508</td>\n",
       "      <td>0.000408</td>\n",
       "      <td>0.000408</td>\n",
       "      <td>0.000408</td>\n",
       "      <td>1.000000</td>\n",
       "      <td>0.000000</td>\n",
       "    </tr>\n",
       "    <tr>\n",
       "      <th>25%</th>\n",
       "      <td>0.259992</td>\n",
       "      <td>0.332587</td>\n",
       "      <td>5.916202</td>\n",
       "      <td>0.036720</td>\n",
       "      <td>0.013872</td>\n",
       "      <td>0.003672</td>\n",
       "      <td>1.000000</td>\n",
       "      <td>0.250000</td>\n",
       "    </tr>\n",
       "    <tr>\n",
       "      <th>50%</th>\n",
       "      <td>0.489092</td>\n",
       "      <td>0.706953</td>\n",
       "      <td>6.390241</td>\n",
       "      <td>0.076703</td>\n",
       "      <td>0.031416</td>\n",
       "      <td>0.015504</td>\n",
       "      <td>5.000000</td>\n",
       "      <td>0.500000</td>\n",
       "    </tr>\n",
       "    <tr>\n",
       "      <th>75%</th>\n",
       "      <td>0.736027</td>\n",
       "      <td>0.918233</td>\n",
       "      <td>7.085483</td>\n",
       "      <td>0.292534</td>\n",
       "      <td>0.070991</td>\n",
       "      <td>0.051408</td>\n",
       "      <td>11.000000</td>\n",
       "      <td>0.750000</td>\n",
       "    </tr>\n",
       "    <tr>\n",
       "      <th>max</th>\n",
       "      <td>1.000000</td>\n",
       "      <td>1.000000</td>\n",
       "      <td>11.167388</td>\n",
       "      <td>0.292534</td>\n",
       "      <td>0.194206</td>\n",
       "      <td>0.108935</td>\n",
       "      <td>12.000000</td>\n",
       "      <td>1.000000</td>\n",
       "    </tr>\n",
       "  </tbody>\n",
       "</table>\n",
       "</div>"
      ],
      "text/plain": [
       "           Product  Product_Brand  Selling_Price  Item_Category_encode  \\\n",
       "count  2451.000000    2451.000000    2451.000000           2451.000000   \n",
       "mean      0.496940       0.612154       6.648503              0.136984   \n",
       "std       0.283303       0.318440       1.174317              0.112677   \n",
       "min       0.000000       0.000000       3.496508              0.000408   \n",
       "25%       0.259992       0.332587       5.916202              0.036720   \n",
       "50%       0.489092       0.706953       6.390241              0.076703   \n",
       "75%       0.736027       0.918233       7.085483              0.292534   \n",
       "max       1.000000       1.000000      11.167388              0.292534   \n",
       "\n",
       "       Subcategory_1_encode  Subcategory_2_encode        Month         Year  \n",
       "count           2451.000000           2451.000000  2451.000000  2451.000000  \n",
       "mean               0.063609              0.029703     5.698490     0.507650  \n",
       "std                0.068241              0.034185     4.361342     0.293236  \n",
       "min                0.000408              0.000408     1.000000     0.000000  \n",
       "25%                0.013872              0.003672     1.000000     0.250000  \n",
       "50%                0.031416              0.015504     5.000000     0.500000  \n",
       "75%                0.070991              0.051408    11.000000     0.750000  \n",
       "max                0.194206              0.108935    12.000000     1.000000  "
      ]
     },
     "execution_count": 29,
     "metadata": {},
     "output_type": "execute_result"
    }
   ],
   "source": [
    "# Data Statistics\n",
    "data.describe()"
   ]
  },
  {
   "cell_type": "code",
   "execution_count": 30,
   "id": "79a21be1",
   "metadata": {
    "scrolled": true
   },
   "outputs": [
    {
     "data": {
      "text/plain": [
       "<Axes: >"
      ]
     },
     "execution_count": 30,
     "metadata": {},
     "output_type": "execute_result"
    },
    {
     "data": {
      "image/png": "[encoded data removed]",
      "text/plain": [
       "<Figure size 1000x1000 with 2 Axes>"
      ]
     },
     "metadata": {},
     "output_type": "display_data"
    }
   ],
   "source": [
    "# Features Colleration\n",
    "fig, ax = plt.subplots(figsize=(10,10))  \n",
    "sns.heatmap(data.corr(method=\"pearson\"),annot=True,  linewidths=.5, ax=ax)"
   ]
  },
  {
   "cell_type": "markdown",
   "id": "25a83e08",
   "metadata": {},
   "source": [
    "# Modeling"
   ]
  },
  {
   "cell_type": "code",
   "execution_count": 31,
   "id": "624df5e5",
   "metadata": {},
   "outputs": [],
   "source": [
    "# Split data into train and test\n",
    "Y = data['Selling_Price']\n",
    "X = data.drop('Selling_Price',axis=1)\n",
    "\n",
    "X_train,X_test,Y_train,Y_test=train_test_split(X,Y,test_size=0.1,random_state=0)"
   ]
  },
  {
   "cell_type": "code",
   "execution_count": 32,
   "id": "caa5e782",
   "metadata": {},
   "outputs": [
    {
     "name": "stdout",
     "output_type": "stream",
     "text": [
      "(2205, 7) (2205,)\n"
     ]
    }
   ],
   "source": [
    "print(X_train.shape,Y_train.shape)"
   ]
  },
  {
   "cell_type": "code",
   "execution_count": 37,
   "id": "85c859e7",
   "metadata": {},
   "outputs": [
    {
     "data": {
      "text/html": [
       "<style>#sk-container-id-1 {color: black;background-color: white;}#sk-container-id-1 pre{padding: 0;}#sk-container-id-1 div.sk-toggleable {background-color: white;}#sk-container-id-1 label.sk-toggleable__label {cursor: pointer;display: block;width: 100%;margin-bottom: 0;padding: 0.3em;box-sizing: border-box;text-align: center;}#sk-container-id-1 label.sk-toggleable__label-arrow:before {content: \"▸\";float: left;margin-right: 0.25em;color: #696969;}#sk-container-id-1 label.sk-toggleable__label-arrow:hover:before {color: black;}#sk-container-id-1 div.sk-estimator:hover label.sk-toggleable__label-arrow:before {color: black;}#sk-container-id-1 div.sk-toggleable__content {max-height: 0;max-width: 0;overflow: hidden;text-align: left;background-color: #f0f8ff;}#sk-container-id-1 div.sk-toggleable__content pre {margin: 0.2em;color: black;border-radius: 0.25em;background-color: #f0f8ff;}#sk-container-id-1 input.sk-toggleable__control:checked~div.sk-toggleable__content {max-height: 200px;max-width: 100%;overflow: auto;}#sk-container-id-1 input.sk-toggleable__control:checked~label.sk-toggleable__label-arrow:before {content: \"▾\";}#sk-container-id-1 div.sk-estimator input.sk-toggleable__control:checked~label.sk-toggleable__label {background-color: #d4ebff;}#sk-container-id-1 div.sk-label input.sk-toggleable__control:checked~label.sk-toggleable__label {background-color: #d4ebff;}#sk-container-id-1 input.sk-hidden--visually {border: 0;clip: rect(1px 1px 1px 1px);clip: rect(1px, 1px, 1px, 1px);height: 1px;margin: -1px;overflow: hidden;padding: 0;position: absolute;width: 1px;}#sk-container-id-1 div.sk-estimator {font-family: monospace;background-color: #f0f8ff;border: 1px dotted black;border-radius: 0.25em;box-sizing: border-box;margin-bottom: 0.5em;}#sk-container-id-1 div.sk-estimator:hover {background-color: #d4ebff;}#sk-container-id-1 div.sk-parallel-item::after {content: \"\";width: 100%;border-bottom: 1px solid gray;flex-grow: 1;}#sk-container-id-1 div.sk-label:hover label.sk-toggleable__label {background-color: #d4ebff;}#sk-container-id-1 div.sk-serial::before {content: \"\";position: absolute;border-left: 1px solid gray;box-sizing: border-box;top: 0;bottom: 0;left: 50%;z-index: 0;}#sk-container-id-1 div.sk-serial {display: flex;flex-direction: column;align-items: center;background-color: white;padding-right: 0.2em;padding-left: 0.2em;position: relative;}#sk-container-id-1 div.sk-item {position: relative;z-index: 1;}#sk-container-id-1 div.sk-parallel {display: flex;align-items: stretch;justify-content: center;background-color: white;position: relative;}#sk-container-id-1 div.sk-item::before, #sk-container-id-1 div.sk-parallel-item::before {content: \"\";position: absolute;border-left: 1px solid gray;box-sizing: border-box;top: 0;bottom: 0;left: 50%;z-index: -1;}#sk-container-id-1 div.sk-parallel-item {display: flex;flex-direction: column;z-index: 1;position: relative;background-color: white;}#sk-container-id-1 div.sk-parallel-item:first-child::after {align-self: flex-end;width: 50%;}#sk-container-id-1 div.sk-parallel-item:last-child::after {align-self: flex-start;width: 50%;}#sk-container-id-1 div.sk-parallel-item:only-child::after {width: 0;}#sk-container-id-1 div.sk-dashed-wrapped {border: 1px dashed gray;margin: 0 0.4em 0.5em 0.4em;box-sizing: border-box;padding-bottom: 0.4em;background-color: white;}#sk-container-id-1 div.sk-label label {font-family: monospace;font-weight: bold;display: inline-block;line-height: 1.2em;}#sk-container-id-1 div.sk-label-container {text-align: center;}#sk-container-id-1 div.sk-container {/* jupyter's `normalize.less` sets `[hidden] { display: none; }` but bootstrap.min.css set `[hidden] { display: none !important; }` so we also need the `!important` here to be able to override the default hidden behavior on the sphinx rendered scikit-learn.org. See: https://github.com/scikit-learn/scikit-learn/issues/21755 */display: inline-block !important;position: relative;}#sk-container-id-1 div.sk-text-repr-fallback {display: none;}</style><div id=\"sk-container-id-1\" class=\"sk-top-container\"><div class=\"sk-text-repr-fallback\"><pre>XGBRegressor(base_score=None, booster=&#x27;gbtree&#x27;, callbacks=None,\n",
       "             colsample_bylevel=None, colsample_bynode=None,\n",
       "             colsample_bytree=None, early_stopping_rounds=None,\n",
       "             enable_categorical=False, eval_metric=None, feature_types=None,\n",
       "             gamma=None, gpu_id=None, grow_policy=None, importance_type=None,\n",
       "             interaction_constraints=None, learning_rate=0.1, max_bin=None,\n",
       "             max_cat_threshold=None, max_cat_to_onehot=None,\n",
       "             max_delta_step=None, max_depth=6, max_leaves=None,\n",
       "             min_child_weight=None, missing=nan, monotone_constraints=None,\n",
       "             n_estimators=500, n_jobs=-1, num_parallel_tree=None,\n",
       "             predictor=None, random_state=100, ...)</pre><b>In a Jupyter environment, please rerun this cell to show the HTML representation or trust the notebook. <br />On GitHub, the HTML representation is unable to render, please try loading this page with nbviewer.org.</b></div><div class=\"sk-container\" hidden><div class=\"sk-item\"><div class=\"sk-estimator sk-toggleable\"><input class=\"sk-toggleable__control sk-hidden--visually\" id=\"sk-estimator-id-1\" type=\"checkbox\" checked><label for=\"sk-estimator-id-1\" class=\"sk-toggleable__label sk-toggleable__label-arrow\">XGBRegressor</label><div class=\"sk-toggleable__content\"><pre>XGBRegressor(base_score=None, booster=&#x27;gbtree&#x27;, callbacks=None,\n",
       "             colsample_bylevel=None, colsample_bynode=None,\n",
       "             colsample_bytree=None, early_stopping_rounds=None,\n",
       "             enable_categorical=False, eval_metric=None, feature_types=None,\n",
       "             gamma=None, gpu_id=None, grow_policy=None, importance_type=None,\n",
       "             interaction_constraints=None, learning_rate=0.1, max_bin=None,\n",
       "             max_cat_threshold=None, max_cat_to_onehot=None,\n",
       "             max_delta_step=None, max_depth=6, max_leaves=None,\n",
       "             min_child_weight=None, missing=nan, monotone_constraints=None,\n",
       "             n_estimators=500, n_jobs=-1, num_parallel_tree=None,\n",
       "             predictor=None, random_state=100, ...)</pre></div></div></div></div></div>"
      ],
      "text/plain": [
       "XGBRegressor(base_score=None, booster='gbtree', callbacks=None,\n",
       "             colsample_bylevel=None, colsample_bynode=None,\n",
       "             colsample_bytree=None, early_stopping_rounds=None,\n",
       "             enable_categorical=False, eval_metric=None, feature_types=None,\n",
       "             gamma=None, gpu_id=None, grow_policy=None, importance_type=None,\n",
       "             interaction_constraints=None, learning_rate=0.1, max_bin=None,\n",
       "             max_cat_threshold=None, max_cat_to_onehot=None,\n",
       "             max_delta_step=None, max_depth=6, max_leaves=None,\n",
       "             min_child_weight=None, missing=nan, monotone_constraints=None,\n",
       "             n_estimators=500, n_jobs=-1, num_parallel_tree=None,\n",
       "             predictor=None, random_state=100, ...)"
      ]
     },
     "execution_count": 37,
     "metadata": {},
     "output_type": "execute_result"
    }
   ],
   "source": [
    "xgb=XGBRegressor(booster='gbtree', max_depth=6, learning_rate=0.1, reg_alpha=0,\n",
    "                  reg_lambda=1, n_jobs=-1, random_state=100, n_estimators=500)\n",
    "xgb.fit(X_train,Y_train)"
   ]
  },
  {
   "cell_type": "code",
   "execution_count": 38,
   "id": "24cedb0d",
   "metadata": {},
   "outputs": [],
   "source": [
    "# Predict the values for the test split\n",
    "y_pred = xgb.predict(X_test)"
   ]
  },
  {
   "cell_type": "code",
   "execution_count": 39,
   "id": "afa9f2c2",
   "metadata": {},
   "outputs": [
    {
     "name": "stdout",
     "output_type": "stream",
     "text": [
      "0.7338881187095098\n"
     ]
    }
   ],
   "source": [
    "# Assess the model using Root Mean Squared Error\n",
    "mse = mean_squared_error(Y_test, y_pred)\n",
    "rmse = math.sqrt(mse)\n",
    "print(rmse)"
   ]
  },
  {
   "cell_type": "code",
   "execution_count": 40,
   "id": "4cc6f24a",
   "metadata": {},
   "outputs": [
    {
     "name": "stdout",
     "output_type": "stream",
     "text": [
      "0.6347039977349838\n"
     ]
    }
   ],
   "source": [
    "# Assess the model using R-squared score\n",
    "r2 = r2_score(Y_test, y_pred)\n",
    "print(r2)"
   ]
  },
  {
   "cell_type": "code",
   "execution_count": 41,
   "id": "2454a433",
   "metadata": {},
   "outputs": [],
   "source": [
    "# Run the model on the all the data\n",
    "model=rf.fit(X,Y)"
   ]
  },
  {
   "cell_type": "markdown",
   "id": "c5f83776",
   "metadata": {},
   "source": [
    "## Model Testing"
   ]
  },
  {
   "cell_type": "code",
   "execution_count": 42,
   "id": "962eeec6",
   "metadata": {},
   "outputs": [],
   "source": [
    "# Importing test dataset (without the Price target)\n",
    "test = pd.read_csv('./Test.csv')"
   ]
  },
  {
   "cell_type": "markdown",
   "id": "84a8e006",
   "metadata": {},
   "source": [
    "### Test dataset Preparation"
   ]
  },
  {
   "cell_type": "code",
   "execution_count": 43,
   "id": "5deb77d0",
   "metadata": {},
   "outputs": [],
   "source": [
    "test['Product'] = test['Product'].str.split('-', n=1, expand=True)[1]\n",
    "test['Product'] = test['Product'].astype(int)\n",
    "test['Product_Brand'] = test['Product_Brand'].str.split('-', n=1, expand=True)[1]\n",
    "test['Product_Brand'] = test['Product_Brand'].astype(int)"
   ]
  },
  {
   "cell_type": "code",
   "execution_count": 44,
   "id": "4495854c",
   "metadata": {},
   "outputs": [],
   "source": [
    "test['Subcategory_1'] = np.where((test['Subcategory_1']=='unknown'),test['Item_Category'],test['Subcategory_1'])\n",
    "test['Subcategory_2'] = np.where((test['Subcategory_2']=='unknown'),test['Subcategory_1'],test['Subcategory_2'])"
   ]
  },
  {
   "cell_type": "code",
   "execution_count": 45,
   "id": "c773df89",
   "metadata": {},
   "outputs": [],
   "source": [
    "enc_nom = (test.groupby('Item_Category').size()) / len(test)\n",
    "enc_nom\n",
    "test['Item_Category_encode'] = test['Item_Category'].apply(lambda x : enc_nom[x])"
   ]
  },
  {
   "cell_type": "code",
   "execution_count": 46,
   "id": "fa09aa71",
   "metadata": {},
   "outputs": [],
   "source": [
    "enc_nom = (test.groupby('Subcategory_1').size()) / len(test)\n",
    "enc_nom\n",
    "test['Subcategory_1_encode'] = test['Subcategory_1'].apply(lambda x : enc_nom[x])"
   ]
  },
  {
   "cell_type": "code",
   "execution_count": 47,
   "id": "c1911ac5",
   "metadata": {},
   "outputs": [],
   "source": [
    "enc_nom = (test.groupby('Subcategory_2').size()) / len(test)\n",
    "enc_nom\n",
    "test['Subcategory_2_encode'] = test['Subcategory_2'].apply(lambda x : enc_nom[x])"
   ]
  },
  {
   "cell_type": "code",
   "execution_count": 48,
   "id": "2c5845ba",
   "metadata": {},
   "outputs": [
    {
     "name": "stderr",
     "output_type": "stream",
     "text": [
      "C:\\Users\\Hedi\\AppData\\Local\\Temp\\ipykernel_8328\\258662162.py:1: UserWarning: Parsing dates in DD/MM/YYYY format when dayfirst=False (the default) was specified. This may lead to inconsistently parsed dates! Specify a format to ensure consistent parsing.\n",
      "  test['Date'] = pd.to_datetime(test['Date'])\n"
     ]
    }
   ],
   "source": [
    "test['Date'] = pd.to_datetime(test['Date'])\n",
    "test['Month'] = [date.month for date in test.Date]\n",
    "test['Year'] = [date.year for date in test.Date]"
   ]
  },
  {
   "cell_type": "code",
   "execution_count": 49,
   "id": "f9a46f7b",
   "metadata": {},
   "outputs": [],
   "source": [
    "test.drop(['Item_Category','Subcategory_1','Subcategory_2','Date','Item_Rating'],axis=1,inplace = True)"
   ]
  },
  {
   "cell_type": "markdown",
   "id": "2aa1f434",
   "metadata": {},
   "source": [
    "## Running the model on the test dataset"
   ]
  },
  {
   "cell_type": "code",
   "execution_count": 50,
   "id": "abcc3256",
   "metadata": {},
   "outputs": [
    {
     "data": {
      "text/plain": [
       "array([6.93272249, 7.18189514, 6.69545295, ..., 6.48865213, 6.73719553,\n",
       "       6.48865213])"
      ]
     },
     "execution_count": 50,
     "metadata": {},
     "output_type": "execute_result"
    }
   ],
   "source": [
    "pred = model.predict(test)\n",
    "pred = np.abs(pred)\n",
    "pred"
   ]
  },
  {
   "cell_type": "markdown",
   "id": "89dad282",
   "metadata": {},
   "source": [
    "## Example of execution data[0]"
   ]
  },
  {
   "cell_type": "code",
   "execution_count": 51,
   "id": "4f071cdf",
   "metadata": {},
   "outputs": [
    {
     "name": "stdout",
     "output_type": "stream",
     "text": [
      "[6.0852316]\n"
     ]
    },
    {
     "name": "stderr",
     "output_type": "stream",
     "text": [
      "C:\\Users\\Hedi\\anaconda3\\lib\\site-packages\\sklearn\\base.py:420: UserWarning: X does not have valid feature names, but RandomForestRegressor was fitted with feature names\n",
      "  warnings.warn(\n"
     ]
    }
   ],
   "source": [
    "input_data=(0.207404,0.196359,0.015504,0.011016,0.005304,2,0.625)\n",
    "input_data_as_numpy_array = np.asarray(input_data)\n",
    "input_data_reshaped = input_data_as_numpy_array.reshape(1,-1)\n",
    "prediction = model.predict(input_data_reshaped)\n",
    "print(prediction)"
   ]
  },
  {
   "cell_type": "markdown",
   "id": "e56c1862",
   "metadata": {},
   "source": [
    "> The model predicts 6.08 for the data[0] line while its real value is 5.67 which represnts a good prediction."
   ]
  }
 ],
 "metadata": {
  "kernelspec": {
   "display_name": "Python 3 (ipykernel)",
   "language": "python",
   "name": "python3"
  },
  "language_info": {
   "codemirror_mode": {
    "name": "ipython",
    "version": 3
   },
   "file_extension": ".py",
   "mimetype": "text/x-python",
   "name": "python",
   "nbconvert_exporter": "python",
   "pygments_lexer": "ipython3",
   "version": "3.9.7"
  }
 },
 "nbformat": 4,
 "nbformat_minor": 5
}
